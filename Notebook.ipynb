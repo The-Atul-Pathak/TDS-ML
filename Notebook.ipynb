{
 "cells": [
  {
   "cell_type": "markdown",
   "id": "0f43137b",
   "metadata": {},
   "source": [
    "# Data Handeling and Preprocessing"
   ]
  },
  {
   "cell_type": "code",
   "execution_count": 2,
   "id": "bc2eac96",
   "metadata": {},
   "outputs": [],
   "source": [
    "import pandas as pd"
   ]
  },
  {
   "cell_type": "code",
   "execution_count": null,
   "id": "3b6679f7",
   "metadata": {},
   "outputs": [
    {
     "name": "stdout",
     "output_type": "stream",
     "text": [
      "No of rows in the dataset are 1000\n",
      "No of columns in the dataset are 20\n",
      "Index(['id', 'name', 'popularity', 'duration_ms', 'explicit', 'artists',\n",
      "       'id_artists', 'release_date', 'danceability', 'energy', 'key',\n",
      "       'loudness', 'mode', 'speechiness', 'acousticness', 'instrumentalness',\n",
      "       'liveness', 'valence', 'tempo', 'time_signature'],\n",
      "      dtype='object')\n",
      "                       id                                 name  popularity  \\\n",
      "0  35iwgR4jXetI318WEWsa1Q                                Carve           6   \n",
      "1  021ht4sdgPcrDgSk7JTbKY  Capítulo 2.16 - Banquero Anarquista           0   \n",
      "2  07A5yehtSnoedViJAZkNnc   Vivo para Quererte - Remasterizado           0   \n",
      "3  08FmqUhxtyLTn6pAh6bk45        El Prisionero - Remasterizado           0   \n",
      "4  08y9GfoqCWfOGsKdwojr5e                  Lady of the Evening           0   \n",
      "\n",
      "   duration_ms  explicit              artists                  id_artists  \\\n",
      "0       126903         0              ['Uli']  ['45tIt06XoI0Iio4LBEVpls']   \n",
      "1        98200         0  ['Fernando Pessoa']  ['14jtPCOoNZwquk5wd9DxrY']   \n",
      "2       181640         0  ['Ignacio Corsini']  ['5LiOoJbxVSAMkBS2fUm3X2']   \n",
      "3       176907         0  ['Ignacio Corsini']  ['5LiOoJbxVSAMkBS2fUm3X2']   \n",
      "4       163080         0      ['Dick Haymes']  ['3BiJGZsyX9sJchTqcSA7Su']   \n",
      "\n",
      "  release_date  danceability  energy  key  loudness  mode  speechiness  \\\n",
      "0   1922-02-22         0.645  0.4450    0   -13.338     1       0.4510   \n",
      "1   1922-06-01         0.695  0.2630    0   -22.136     1       0.9570   \n",
      "2   1922-03-21         0.434  0.1770    1   -21.180     1       0.0512   \n",
      "3   1922-03-21         0.321  0.0946    7   -27.961     1       0.0504   \n",
      "4         1922         0.402  0.1580    3   -16.900     0       0.0390   \n",
      "\n",
      "   acousticness  instrumentalness  liveness  valence    tempo  time_signature  \n",
      "0         0.674            0.7440     0.151    0.127  104.851               3  \n",
      "1         0.797            0.0000     0.148    0.655  102.009               1  \n",
      "2         0.994            0.0218     0.212    0.457  130.418               5  \n",
      "3         0.995            0.9180     0.104    0.397  169.980               3  \n",
      "4         0.989            0.1300     0.311    0.196  103.220               4  \n",
      "                         id                             name  popularity  \\\n",
      "995  5dyaqbTGuH7Wpfi9Zzz1XD     Chapter 128 - The Unlit Lamp           0   \n",
      "996  5eHqeM6dI4W30vqE1f7Ocy       El Matrero - Remasterizado           0   \n",
      "997  5geFQ5VHVdDwR5ciwqhjMB      Chapter 54 - The Unlit Lamp           0   \n",
      "998  5gebIAQPfKYmZy7DONRPry      Chapter 49 - The Unlit Lamp           0   \n",
      "999  5hGmr6KQWzcCGdTYxf4P4S  Stompin' at the Savoy - Mix One           0   \n",
      "\n",
      "     duration_ms  explicit                                            artists  \\\n",
      "995       196482         0  ['Radclyffe Hall', 'Alice White', 'Synthesized...   \n",
      "996       175280         0                               ['Francisco Canaro']   \n",
      "997       186758         0  ['Radclyffe Hall', 'Alice White', 'Synthesized...   \n",
      "998       182259         0  ['Radclyffe Hall', 'Alice White', 'Synthesized...   \n",
      "999       192680         0                       ['Lionel Hampton Orchestra']   \n",
      "\n",
      "                                            id_artists release_date  \\\n",
      "995  ['2OJEUmIIPsTAUjil4dOz70', '35AgMyuKAQIoMJZEp3...         1924   \n",
      "996                         ['2maQMqxNnlRrBrS1oAsrX9']   1924-07-12   \n",
      "997  ['2OJEUmIIPsTAUjil4dOz70', '35AgMyuKAQIoMJZEp3...         1924   \n",
      "998  ['2OJEUmIIPsTAUjil4dOz70', '35AgMyuKAQIoMJZEp3...         1924   \n",
      "999                         ['6UftTZlUzZBBl2ctjzLQ1w']         1924   \n",
      "\n",
      "     danceability  energy  key  loudness  mode  speechiness  acousticness  \\\n",
      "995         0.698   0.309    9   -16.519     1       0.9490         0.735   \n",
      "996         0.735   0.325    9   -14.517     1       0.0549         0.996   \n",
      "997         0.680   0.309    3   -16.242     1       0.9410         0.754   \n",
      "998         0.713   0.314    0   -16.387     0       0.9080         0.666   \n",
      "999         0.742   0.805    1    -5.123     1       0.0360         0.919   \n",
      "\n",
      "     instrumentalness  liveness  valence    tempo  time_signature  \n",
      "995             0.000     0.145    0.360   79.963               4  \n",
      "996             0.911     0.509    0.920  112.052               4  \n",
      "997             0.000     0.163    0.546   85.247               4  \n",
      "998             0.000     0.313    0.423  125.650               4  \n",
      "999             0.578     0.259    0.840  112.840               4  \n"
     ]
    }
   ],
   "source": [
    "df = pd.read_csv(\"tracks.csv\")\n",
    "df = df.head(1000) #Only using the first 1000 rows - Faster to load\n",
    "\n",
    "print(\"No of rows in the dataset are\", len(df))\n",
    "print(\"No of columns in the dataset are\", len(df.columns))\n",
    "print(df.columns)\n",
    "print(df.head())\n",
    "print(df.tail())"
   ]
  },
  {
   "cell_type": "code",
   "execution_count": 4,
   "id": "c8d61dc6",
   "metadata": {},
   "outputs": [
    {
     "name": "stdout",
     "output_type": "stream",
     "text": [
      "id                  0\n",
      "name                0\n",
      "popularity          0\n",
      "duration_ms         0\n",
      "explicit            0\n",
      "artists             0\n",
      "id_artists          0\n",
      "release_date        0\n",
      "danceability        0\n",
      "energy              0\n",
      "key                 0\n",
      "loudness            0\n",
      "mode                0\n",
      "speechiness         0\n",
      "acousticness        0\n",
      "instrumentalness    0\n",
      "liveness            0\n",
      "valence             0\n",
      "tempo               0\n",
      "time_signature      0\n",
      "dtype: int64\n",
      "                         id                                 name  popularity  \\\n",
      "0    35iwgR4jXetI318WEWsa1Q                                Carve           6   \n",
      "1    021ht4sdgPcrDgSk7JTbKY  Capítulo 2.16 - Banquero Anarquista           0   \n",
      "2    07A5yehtSnoedViJAZkNnc   Vivo para Quererte - Remasterizado           0   \n",
      "3    08FmqUhxtyLTn6pAh6bk45        El Prisionero - Remasterizado           0   \n",
      "4    08y9GfoqCWfOGsKdwojr5e                  Lady of the Evening           0   \n",
      "..                      ...                                  ...         ...   \n",
      "995  5dyaqbTGuH7Wpfi9Zzz1XD         Chapter 128 - The Unlit Lamp           0   \n",
      "996  5eHqeM6dI4W30vqE1f7Ocy           El Matrero - Remasterizado           0   \n",
      "997  5geFQ5VHVdDwR5ciwqhjMB          Chapter 54 - The Unlit Lamp           0   \n",
      "998  5gebIAQPfKYmZy7DONRPry          Chapter 49 - The Unlit Lamp           0   \n",
      "999  5hGmr6KQWzcCGdTYxf4P4S      Stompin' at the Savoy - Mix One           0   \n",
      "\n",
      "     duration_ms  explicit                                            artists  \\\n",
      "0         126903         0                                            ['Uli']   \n",
      "1          98200         0                                ['Fernando Pessoa']   \n",
      "2         181640         0                                ['Ignacio Corsini']   \n",
      "3         176907         0                                ['Ignacio Corsini']   \n",
      "4         163080         0                                    ['Dick Haymes']   \n",
      "..           ...       ...                                                ...   \n",
      "995       196482         0  ['Radclyffe Hall', 'Alice White', 'Synthesized...   \n",
      "996       175280         0                               ['Francisco Canaro']   \n",
      "997       186758         0  ['Radclyffe Hall', 'Alice White', 'Synthesized...   \n",
      "998       182259         0  ['Radclyffe Hall', 'Alice White', 'Synthesized...   \n",
      "999       192680         0                       ['Lionel Hampton Orchestra']   \n",
      "\n",
      "                                            id_artists release_date  \\\n",
      "0                           ['45tIt06XoI0Iio4LBEVpls']   1922-02-22   \n",
      "1                           ['14jtPCOoNZwquk5wd9DxrY']   1922-06-01   \n",
      "2                           ['5LiOoJbxVSAMkBS2fUm3X2']   1922-03-21   \n",
      "3                           ['5LiOoJbxVSAMkBS2fUm3X2']   1922-03-21   \n",
      "4                           ['3BiJGZsyX9sJchTqcSA7Su']         1922   \n",
      "..                                                 ...          ...   \n",
      "995  ['2OJEUmIIPsTAUjil4dOz70', '35AgMyuKAQIoMJZEp3...         1924   \n",
      "996                         ['2maQMqxNnlRrBrS1oAsrX9']   1924-07-12   \n",
      "997  ['2OJEUmIIPsTAUjil4dOz70', '35AgMyuKAQIoMJZEp3...         1924   \n",
      "998  ['2OJEUmIIPsTAUjil4dOz70', '35AgMyuKAQIoMJZEp3...         1924   \n",
      "999                         ['6UftTZlUzZBBl2ctjzLQ1w']         1924   \n",
      "\n",
      "     danceability  energy  key  loudness  mode  speechiness  acousticness  \\\n",
      "0           0.645  0.4450    0   -13.338     1       0.4510         0.674   \n",
      "1           0.695  0.2630    0   -22.136     1       0.9570         0.797   \n",
      "2           0.434  0.1770    1   -21.180     1       0.0512         0.994   \n",
      "3           0.321  0.0946    7   -27.961     1       0.0504         0.995   \n",
      "4           0.402  0.1580    3   -16.900     0       0.0390         0.989   \n",
      "..            ...     ...  ...       ...   ...          ...           ...   \n",
      "995         0.698  0.3090    9   -16.519     1       0.9490         0.735   \n",
      "996         0.735  0.3250    9   -14.517     1       0.0549         0.996   \n",
      "997         0.680  0.3090    3   -16.242     1       0.9410         0.754   \n",
      "998         0.713  0.3140    0   -16.387     0       0.9080         0.666   \n",
      "999         0.742  0.8050    1    -5.123     1       0.0360         0.919   \n",
      "\n",
      "     instrumentalness  liveness  valence    tempo  time_signature  \n",
      "0              0.7440     0.151    0.127  104.851               3  \n",
      "1              0.0000     0.148    0.655  102.009               1  \n",
      "2              0.0218     0.212    0.457  130.418               5  \n",
      "3              0.9180     0.104    0.397  169.980               3  \n",
      "4              0.1300     0.311    0.196  103.220               4  \n",
      "..                ...       ...      ...      ...             ...  \n",
      "995            0.0000     0.145    0.360   79.963               4  \n",
      "996            0.9110     0.509    0.920  112.052               4  \n",
      "997            0.0000     0.163    0.546   85.247               4  \n",
      "998            0.0000     0.313    0.423  125.650               4  \n",
      "999            0.5780     0.259    0.840  112.840               4  \n",
      "\n",
      "[1000 rows x 20 columns]\n"
     ]
    }
   ],
   "source": [
    "print(df.isnull().sum())\n",
    "\n",
    "print(df.dropna())"
   ]
  },
  {
   "cell_type": "code",
   "execution_count": 5,
   "id": "b6a04d47",
   "metadata": {},
   "outputs": [
    {
     "data": {
      "text/plain": [
       "0"
      ]
     },
     "execution_count": 5,
     "metadata": {},
     "output_type": "execute_result"
    }
   ],
   "source": [
    "len(df[df.duplicated()])"
   ]
  },
  {
   "cell_type": "markdown",
   "id": "a4a9e97f",
   "metadata": {},
   "source": [
    "# Exploratory Data Analysis"
   ]
  },
  {
   "cell_type": "code",
   "execution_count": null,
   "id": "aae5fad1",
   "metadata": {},
   "outputs": [
    {
     "name": "stdout",
     "output_type": "stream",
     "text": [
      "hi\n"
     ]
    }
   ],
   "source": [
    "stats = {\n",
    "    \"Popularity\": [df[\"popularity\"].mean(), df[\"popularity\"].mode(), df[\"popularity\"].std()],\n",
    "    \"Duration\": [df[\"duration_ms\"].mean(), df[\"duration_ms\"].mode(), df[\"duration_ms\"].std()],\n",
    "    \"Danceability\": [df[\"danceability\"].mean(), df[\"danceability\"].mode(), df[\"danceability\"].std()],\n",
    "    \"Loudness\": [df[\"loudness\"].mean(), df[\"loudness\"].mode(), df[\"loudness\"].std()],\n",
    "    \"Words\": [df[\"speechiness\"].mean(), df[\"speechiness\"].mode(), df[\"speechiness\"].std()],\n",
    "    \"Acousticness\": [df[\"acousticness\"].mean(), df[\"acousticness\"].mode(), df[\"acousticness\"].std()],\n",
    "}\n",
    "\n",
    "stats_df = pd.DataFrame(stats)\n",
    "stats_df"
   ]
  },
  {
   "cell_type": "code",
   "execution_count": null,
   "id": "2b4479d9",
   "metadata": {},
   "outputs": [
    {
     "name": "stdout",
     "output_type": "stream",
     "text": [
      "The correleation between Popularity and Duration is 0.132512226363597\n",
      "The correleation between Popularity and Energy is -0.17955860941919283\n",
      "The correleation between Popularity and Danceability is 0.0034315412009970426\n",
      "The correleation between Popularity and Loudness is 0.3203605120381711\n",
      "The correleation between Popularity and Words is -0.3084371901372944\n",
      "The correleation between Popularity and Acousticness is 0.25021739100322815\n"
     ]
    }
   ],
   "source": [
    "print(\"The correleation between Popularity and Duration is\", df[\"popularity\"].corr(df[\"duration_ms\"]))\n",
    "print(\"The correleation between Popularity and Energy is\", df[\"popularity\"].corr(df[\"energy\"]))\n",
    "print(\"The correleation between Popularity and Danceability is\", df[\"popularity\"].corr(df[\"danceability\"]))\n",
    "print(\"The correleation between Popularity and Loudness is\", df[\"popularity\"].corr(df[\"loudness\"]))\n",
    "print(\"The correleation between Popularity and Words is\", df[\"popularity\"].corr(df[\"speechiness\"]))\n",
    "print(\"The correleation between Popularity and Acousticness is\", df[\"popularity\"].corr(df[\"acousticness\"]))"
   ]
  }
 ],
 "metadata": {
  "kernelspec": {
   "display_name": ".venv",
   "language": "python",
   "name": "python3"
  },
  "language_info": {
   "codemirror_mode": {
    "name": "ipython",
    "version": 3
   },
   "file_extension": ".py",
   "mimetype": "text/x-python",
   "name": "python",
   "nbconvert_exporter": "python",
   "pygments_lexer": "ipython3",
   "version": "3.13.5"
  }
 },
 "nbformat": 4,
 "nbformat_minor": 5
}
